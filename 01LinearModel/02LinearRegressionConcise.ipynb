{
 "cells": [
  {
   "cell_type": "code",
   "execution_count": 1,
   "id": "780d80b5",
   "metadata": {},
   "outputs": [],
   "source": [
    "import numpy as np\n",
    "import torch\n",
    "from torch import nn\n",
    "from torch.utils.data import Dataset\n",
    "from torch.utils.data import DataLoader"
   ]
  },
  {
   "cell_type": "markdown",
   "id": "260b614a",
   "metadata": {},
   "source": [
    "1. 我们手工设置一个 w和b，然后使用这组参数去生成数据\n",
    "2. 然后使用这组数据去学习w'和b'，进行比较学习到的差异"
   ]
  },
  {
   "cell_type": "code",
   "execution_count": 2,
   "id": "192fa66a",
   "metadata": {},
   "outputs": [
    {
     "data": {
      "text/plain": [
       "(torch.Size([6]), torch.Size([6]))"
      ]
     },
     "execution_count": 2,
     "metadata": {},
     "output_type": "execute_result"
    }
   ],
   "source": [
    "true_w = torch.tensor([2, -3.4, 5, -3, 1,-2])\n",
    "true_b = 4.2\n",
    "true_w.shape,true_w.size()"
   ]
  },
  {
   "cell_type": "code",
   "execution_count": 3,
   "id": "21883e06",
   "metadata": {},
   "outputs": [],
   "source": [
    "# 构造数据\n",
    "def synthetic_data(w, b, num_examples):\n",
    "    X = torch.normal(mean=0, std=1,size=(num_examples, len(w)))\n",
    "    Y = X @ w + b\n",
    "    Y += torch.normal(mean=0, std=0.01,size=Y.shape)\n",
    "    return X, Y.reshape((-1, 1))"
   ]
  },
  {
   "cell_type": "code",
   "execution_count": 4,
   "id": "10418cdb",
   "metadata": {},
   "outputs": [],
   "source": [
    "features, labels = synthetic_data(true_w, true_b, 10000)"
   ]
  },
  {
   "cell_type": "code",
   "execution_count": 5,
   "id": "494a27df",
   "metadata": {},
   "outputs": [
    {
     "data": {
      "text/plain": [
       "(tensor([-0.8054, -0.2786,  2.3090,  0.3210,  0.7938, -0.5885]),\n",
       " tensor(11.8891),\n",
       " tensor(11.8891),\n",
       " 6)"
      ]
     },
     "execution_count": 5,
     "metadata": {},
     "output_type": "execute_result"
    }
   ],
   "source": [
    "features[0], features[0] @true_w,true_w @ features[0], len(true_w )"
   ]
  },
  {
   "cell_type": "code",
   "execution_count": 6,
   "id": "79f663e9",
   "metadata": {},
   "outputs": [
    {
     "data": {
      "text/plain": [
       "(10000, torch.Size([10000, 6]), list)"
      ]
     },
     "execution_count": 6,
     "metadata": {},
     "output_type": "execute_result"
    }
   ],
   "source": [
    "dataset = [features, labels]\n",
    "len(dataset[0]),dataset[0].shape, type(dataset)"
   ]
  },
  {
   "cell_type": "code",
   "execution_count": 7,
   "id": "d9b152c0",
   "metadata": {},
   "outputs": [],
   "source": [
    "class MyDataset(Dataset):\n",
    "    \"\"\"\n",
    "        if the dataset is small, we can load it into memory\n",
    "        if the dataset is quite large, using the filename or fileindex as index\n",
    "    \"\"\"\n",
    "    def __init__(self, dataset):\n",
    "        # dataset=[X, y]是一个list，如果直接len(dataset)=2，所以我们需要使用X的len or X.shape[0]\n",
    "        self.len = len(dataset[0])\n",
    "        self.X = dataset[0]\n",
    "        self.y = dataset[1]\n",
    "    def __getitem__(self, index):\n",
    "        \"\"\"implement dataset[index]\"\"\"\n",
    "        return self.X[index], self.y[index]\n",
    "    def __len__(self):\n",
    "        \"\"\"len(batch) can return length\"\"\"\n",
    "        return self.len\n",
    "dataset = MyDataset([features, labels])\n",
    "train_loader = DataLoader(dataset=dataset, batch_size=10,shuffle=True, num_workers=2)"
   ]
  },
  {
   "cell_type": "code",
   "execution_count": 8,
   "id": "1293e531",
   "metadata": {},
   "outputs": [],
   "source": [
    "from torch import nn\n",
    "# X 作为输入有7个feature，输出为scalar，为一个维度\n",
    "net = nn.Sequential(nn.Linear(len(true_w), 1))"
   ]
  },
  {
   "cell_type": "code",
   "execution_count": 9,
   "id": "8712f893",
   "metadata": {},
   "outputs": [
    {
     "data": {
      "text/plain": [
       "(tensor([ 0.0157, -0.0046,  0.0050, -0.0123, -0.0059,  0.0047]), tensor(0.))"
      ]
     },
     "execution_count": 9,
     "metadata": {},
     "output_type": "execute_result"
    }
   ],
   "source": [
    "def init_normal(m):\n",
    "  # 如果当前层是线性层\n",
    "  if type(m) == nn.Linear:\n",
    "    nn.init.normal_(m.weight, mean=0,std=0.01)\n",
    "    nn.init.zeros_(m.bias)\n",
    "# for loop 逐个将线性层使用初始化参数\n",
    "net.apply(init_normal)\n",
    "net[0].weight.data[0], net[0].bias.data[0]"
   ]
  },
  {
   "cell_type": "code",
   "execution_count": 12,
   "id": "a727b7ae",
   "metadata": {},
   "outputs": [],
   "source": [
    "def train(epochs, weight_decay, lr):\n",
    "    criterion = nn.MSELoss()\n",
    "    # optimizer = torch.optim.SGD(net.parameters(), lr=0.03)\n",
    "    optimizer = torch.optim.SGD([\n",
    "        {\"params\":net[0].weight,'weight_decay': weight_decay},\n",
    "        {\"params\":net[0].bias}], lr=lr)\n",
    "    for epoch in range(epochs):\n",
    "        for i, (x, y) in enumerate(train_loader, 0):\n",
    "            \"\"\"(0, seq[0]), (1, seq[1]), (2, seq[2]), ...\"\"\"\n",
    "            y_hat = net(x)\n",
    "            loss = criterion(y, y_hat) \n",
    "            optimizer.zero_grad()\n",
    "            loss.backward()\n",
    "            optimizer.step()\n",
    "        loss = criterion(net(features), labels)\n",
    "        print(f'epoch {epoch + 1}, loss {loss:f}')"
   ]
  },
  {
   "cell_type": "code",
   "execution_count": 13,
   "id": "14e1bfaf",
   "metadata": {},
   "outputs": [
    {
     "name": "stdout",
     "output_type": "stream",
     "text": [
      "epoch 1, loss 0.000100\n",
      "epoch 2, loss 0.000102\n",
      "epoch 3, loss 0.000103\n",
      "epoch 4, loss 0.000101\n",
      "epoch 5, loss 0.000100\n",
      "epoch 6, loss 0.000100\n",
      "epoch 7, loss 0.000101\n",
      "epoch 8, loss 0.000103\n",
      "epoch 9, loss 0.000101\n",
      "epoch 10, loss 0.000101\n"
     ]
    }
   ],
   "source": [
    "train(10,weight_decay=0,lr=0.03)"
   ]
  },
  {
   "cell_type": "code",
   "execution_count": 14,
   "id": "29777880",
   "metadata": {},
   "outputs": [
    {
     "name": "stdout",
     "output_type": "stream",
     "text": [
      "w的估计误差： tensor([-3.9530e-04, -1.0347e-04, -3.8624e-04,  5.5313e-05,  2.5928e-05,\n",
      "         9.5844e-05])\n",
      "b的估计误差： tensor([-0.0016])\n"
     ]
    }
   ],
   "source": [
    "w = net[0].weight.data\n",
    "print('w的估计误差：', true_w - w.reshape(true_w.shape))\n",
    "b = net[0].bias.data\n",
    "print('b的估计误差：', true_b - b)"
   ]
  }
 ],
 "metadata": {
  "kernelspec": {
   "display_name": "Python 3 (ipykernel)",
   "language": "python",
   "name": "python3"
  },
  "language_info": {
   "codemirror_mode": {
    "name": "ipython",
    "version": 3
   },
   "file_extension": ".py",
   "mimetype": "text/x-python",
   "name": "python",
   "nbconvert_exporter": "python",
   "pygments_lexer": "ipython3",
   "version": "3.8.13"
  }
 },
 "nbformat": 4,
 "nbformat_minor": 5
}
